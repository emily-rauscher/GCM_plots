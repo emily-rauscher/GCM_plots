{
 "cells": [
  {
   "cell_type": "markdown",
   "metadata": {},
   "source": [
    "***\n",
    "# The Ferocious FFF: Fortran File Finisher\n",
    "***\n",
    "### <font color=black> Just like it sounds, this notebook allows you to convert all those pesky fortran output files into nice, wonderful, .txt panda data frames. \n",
    "#### (Pandas, the one true hero.) </font>\n",
    "\n",
    "\n",
    "> #### FYI --- \n",
    "...always make sure to run this notebook before trying to plot anything. The rest of the code agrees with the author that the fort.* files are ugly to deal with and it's easier to get them out of the way at the begining </font>\n"
   ]
  },
  {
   "cell_type": "code",
   "execution_count": 1,
   "metadata": {},
   "outputs": [
    {
     "name": "stdout",
     "output_type": "stream",
     "text": [
      "  \n",
      " ....reading  fort.26\n",
      "       nlat= 96 nlon= 192 nlev= 30\n",
      "       END OF FILE: DONE\n",
      " \n",
      "--------------------------\n",
      "|    ARRAY DIMENSIONS    |\n",
      "--------------------------\n",
      "N_levels:  30\n",
      "N_lons:    192\n",
      "N_lats:    96\n",
      "N_params:  6\n",
      " \n",
      "--------------------------\n",
      "|   Important Indexing!  |\n",
      "--------------------------\n",
      "Longitudes: 0\n",
      "Latitudes : 1\n",
      "Levels    : 2\n",
      "U Winds   : 3\n",
      "V Winds   : 4\n",
      "Temps     : 5\n",
      "  \n",
      " ....reading fort.64 (LW)\n",
      "       nlat= 96 nlon= 192 nlev= 30\n",
      "       END OF FILE: DONE\n",
      "  \n",
      " ....reading fort.65 (SW)\n",
      "       nlat= 96 nlon= 192 nlev= 30\n"
     ]
    },
    {
     "name": "stderr",
     "output_type": "stream",
     "text": [
      "Main_Functions/FortranFileFinisher.py:191: RuntimeWarning: invalid value encountered in multiply\n",
      "  data_64=np.empty([nlat*nlon,3])*0.0\n"
     ]
    },
    {
     "name": "stdout",
     "output_type": "stream",
     "text": [
      "       END OF FILE: DONE\n",
      "  \n",
      " ....reading fort.66 (Total)\n",
      "       nlat= 96 nlon= 192 nlev= 30\n",
      "       END OF FILE: DONE\n",
      "  \n",
      "******************************\n",
      "Total Integrated Input - ACTUAL (W):\n",
      "  SW: 1.2505198065382635e+17\n",
      " O/I: 96.59 %\n",
      "******************************\n"
     ]
    }
   ],
   "source": [
    "import numpy as np\n",
    "\n",
    "import sys\n",
    "#print (sys.argv)\n",
    "sys.path.insert(0,'Main_Functions/') \n",
    "\n",
    "from FortranFileFinisher import *\n",
    "\n",
    "#######################################\n",
    "#     NECESSARY USER INPUT BELOW!     #\n",
    "#######################################\n",
    "\n",
    "# put the main path to your runs here\n",
    "path='/Users/ermay/Documents/GradSchool/Research_Surface/GCM_plots/Files/'\n",
    "runname='EARTH_T63'\n",
    "\n",
    "# don't forget to update the inputs below!\n",
    "# this is important, fort26 saves the lon,lat, and p_BAR arrays for later use! \n",
    "# if they're wrong now, you'll have to remake these files by rerunning this cell\n",
    "oom=0\n",
    "surfp=1.00\n",
    "radea=6.37*10**6\n",
    "base_flux=0.4\n",
    "nlev=30\n",
    "nday=1800\n",
    "\n",
    "# do you want it to print the full Longitude, Latitude, and Pressure arrays? (probs not...)\n",
    "ver=False\n",
    "\n",
    "# do you want to save the converted fortan file to a pandas dataframe? (probs yes...)\n",
    "savet=True\n",
    "\n",
    "# the last input lets you load in a specific one of the fort.* files from the last orbit if you'd like\n",
    "# FYI: fort65, 66 are from new versions of the GCM not yet pushed and merged to bitbucket. \n",
    "# you can comment them out if you don't have them yet\n",
    "# -----------------------------------------------\n",
    "# fort.26: Winds, Temperatures @all lats,lons,levs\n",
    "# fort.50: forthcoming\n",
    "# fort.52: Kinetic Energy @all levs over time\n",
    "# fort.64,65,66: Emitted LW,SW,and Total TOA Fluxes, respectively\n",
    "# -----------------------------------------------\n",
    "\n",
    "runname, oom, surfp, lon_arr, lat_arr, p_BAR, data_26 = fort26(path,runname,oom,surfp,ver,savet,      'fort.26')\n",
    "_______, ___, _____,          daylist, _____, newke   = fort52(path,runname,oom,surfp,nlev,nday,savet,'fort.52')\n",
    "_______,             _______, _______, data_lw, tt_lw = fort64(path,runname,radea,ver,savet,'fort.64')\n",
    "_______,             _______, _______, data_sw, tt_sw = fort65(path,runname,radea,ver,savet,'fort.65')\n",
    "_______,             _______, _______, data_tt, tt_tt = fort66(path,runname,radea,ver,savet,'fort.66')\n",
    "\n",
    "\n",
    "print '  '\n",
    "print '******************************'\n",
    "print 'Total Integrated Input - ACTUAL (W):'\n",
    "incoming_actual=tt_tt+tt_sw+tt_lw\n",
    "print '  SW:', incoming_actual\n",
    "print ' O/I:', np.round(100.*(np.nansum([tt_sw,tt_lw])/(incoming_actual+base_flux)),2),'%'\n",
    "print '******************************'\n"
   ]
  },
  {
   "cell_type": "code",
   "execution_count": null,
   "metadata": {},
   "outputs": [],
   "source": []
  }
 ],
 "metadata": {
  "kernelspec": {
   "display_name": "Python 2",
   "language": "python",
   "name": "python2"
  },
  "language_info": {
   "codemirror_mode": {
    "name": "ipython",
    "version": 2
   },
   "file_extension": ".py",
   "mimetype": "text/x-python",
   "name": "python",
   "nbconvert_exporter": "python",
   "pygments_lexer": "ipython2",
   "version": "2.7.14"
  }
 },
 "nbformat": 4,
 "nbformat_minor": 2
}
